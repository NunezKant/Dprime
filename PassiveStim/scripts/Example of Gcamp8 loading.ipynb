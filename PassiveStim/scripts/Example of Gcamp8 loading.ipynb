{
 "cells": [
  {
   "cell_type": "markdown",
   "metadata": {},
   "source": [
    "# GCAMP8 loading notebook\n",
    "\n",
    "When using `stim_with_pup.mat` as the stimuli, you can vary the frequency of the stimulus and gray presentation, controlled by some parameters in the script, those parameters are multiples of ~3Hz, so if you increase the sampling frequency of the recording (in this case ~13Hz) you want to roughly match the stimulus presentation with the neural frames.\n",
    "\n",
    "In the case of this recording the parameters on `stim_with_pup.mat` were setted to **4**, since the sampling frequency of the recording was **13 Hz**\n",
    "\n",
    "In this example notebook I modified the `get_neurons_atframes()` function to allow binning"
   ]
  },
  {
   "cell_type": "code",
   "execution_count": 3,
   "metadata": {},
   "outputs": [
    {
     "name": "stderr",
     "output_type": "stream",
     "text": [
      "c:\\Users\\WinDesktopMP\\anaconda3\\envs\\suite2p\\lib\\site-packages\\tqdm\\auto.py:22: TqdmWarning: IProgress not found. Please update jupyter and ipywidgets. See https://ipywidgets.readthedocs.io/en/stable/user_install.html\n",
      "  from .autonotebook import tqdm as notebook_tqdm\n"
     ]
    },
    {
     "name": "stdout",
     "output_type": "stream",
     "text": [
      "Warning: cellpose did not import\n",
      "No module named 'cellpose'\n",
      "cannot use anatomical mode, but otherwise suite2p will run normally\n"
     ]
    }
   ],
   "source": [
    "import sys # os stands for \"operating system\" and includes read/write routines etc. \n",
    "import mkl\n",
    "from src import utils # this is our own library of functions\n",
    "import matplotlib.pyplot as plt\n",
    "import numpy as np \n",
    "import seaborn as sns\n",
    "import pandas as pd\n",
    "\n",
    "sns.set_context(\"talk\")\n",
    "mkl.set_num_threads(10)\n",
    "sys.path.insert(0,r'C:\\Users\\WinDesktopMP\\Documents\\suite2p')\n",
    "%matplotlib inline\n",
    "%load_ext autoreload\n",
    "%autoreload 2"
   ]
  },
  {
   "cell_type": "code",
   "execution_count": 4,
   "metadata": {},
   "outputs": [],
   "source": [
    "exp_db = []\n",
    "exp_db = utils.add_exp(exp_db,\"L1_A4\",\"2022_08_22\",\"1\")"
   ]
  },
  {
   "cell_type": "code",
   "execution_count": 5,
   "metadata": {},
   "outputs": [
    {
     "name": "stdout",
     "output_type": "stream",
     "text": [
      "planes: 4\n"
     ]
    },
    {
     "name": "stderr",
     "output_type": "stream",
     "text": [
      "100%|██████████| 4/4 [04:16<00:00, 64.09s/it]"
     ]
    },
    {
     "name": "stdout",
     "output_type": "stream",
     "text": [
      "total neurons: 13952\n"
     ]
    },
    {
     "name": "stderr",
     "output_type": "stream",
     "text": [
      "\n"
     ]
    }
   ],
   "source": [
    "timeline  = utils.load_exp_info(exp_db[0], timeline_block=None)\n",
    "spks, xpos, ypos, iplane, stat, ops = utils.load_neurons(exp_db[0], dual_plane=True, baseline=True)"
   ]
  },
  {
   "cell_type": "code",
   "execution_count": 6,
   "metadata": {},
   "outputs": [],
   "source": [
    "def get_neurons_atframes_w_bin(timeline, spks, bin=4):\n",
    "    \"\"\"\n",
    "    Get the neurons at each frame, and the subset of stimulus before the recording ends.\n",
    "\n",
    "    Parameters\n",
    "    ----------\n",
    "    spks : array\n",
    "        Spikes of the neurons.\n",
    "    Timeline : array\n",
    "        Timeline of the experiment.\n",
    "\n",
    "    Returns\n",
    "    -------\n",
    "    neurons_atframes : array\n",
    "        Neurons at each frame.\n",
    "    subset_stim: array\n",
    "        Stimuli before recording ends\n",
    "    \"\"\"\n",
    "    def rolling_window(a,win_size=bin,freq=bin):\n",
    "        return np.lib.stride_tricks.sliding_window_view(a,win_size)[::freq,:].mean(1)\n",
    "\n",
    "    if bin is None:\n",
    "        _, nt = spks.shape\n",
    "        tlag = 1  # this is the normal lag between frames and stimuli\n",
    "        istim = timeline[\"stiminfo\"].item()[\"istim\"]\n",
    "        frame_start = timeline[\"stiminfo\"].item()[\"frame_start\"]\n",
    "        frame_start = np.array(frame_start).astype(\"int\")\n",
    "        frame_start0 = frame_start + tlag\n",
    "        ix = frame_start0 < nt\n",
    "        frame_start0 = frame_start0[ix]\n",
    "        neurons_atframes = spks[\n",
    "            :, frame_start0\n",
    "        ]  # sample the neurons at the stimulus frames\n",
    "        subset_stim = istim[ix]\n",
    "    else:\n",
    "        _, nt = spks.shape\n",
    "        tlag = 1  # this is the normal lag between frames and stimuli\n",
    "        istim = timeline[\"stiminfo\"].item()[\"istim\"]\n",
    "        frame_start = timeline[\"stiminfo\"].item()[\"frame_start\"]\n",
    "        frame_start = np.array(frame_start).astype(\"int\")\n",
    "        frame_start0 = frame_start + tlag\n",
    "        ix = frame_start0 < nt\n",
    "        frame_start0 = frame_start0[ix]\n",
    "        n_stim_frames = len(frame_start0)\n",
    "        frames_to_bin = np.empty((0,n_stim_frames*bin),int)\n",
    "        for stim_frame in range(n_stim_frames):\n",
    "            effective_frames = np.arange(frame_start0[stim_frame],frame_start0[stim_frame]+bin)\n",
    "            frames_to_bin = np.append(frames_to_bin, [effective_frames])\n",
    "        frames_to_bin = frames_to_bin[frames_to_bin<nt]\n",
    "        neurons_atframes_tobin = spks[:, frames_to_bin]\n",
    "        neurons_atframes = np.apply_along_axis(rolling_window, 1, neurons_atframes_tobin)  # bin the neurons using specified bin\n",
    "        subset_stim = istim[ix][:neurons_atframes.shape[1]]\n",
    "    return neurons_atframes, subset_stim"
   ]
  },
  {
   "cell_type": "code",
   "execution_count": 7,
   "metadata": {},
   "outputs": [],
   "source": [
    "neurons_atframes, subset_stim = get_neurons_atframes_w_bin(timeline, spks, bin=4)\n",
    "neurons_atframes_nobin, subset_stim_nobin = get_neurons_atframes_w_bin(timeline, spks, bin=None)"
   ]
  },
  {
   "cell_type": "markdown",
   "metadata": {},
   "source": [
    "first 1000 frames of neuron 0:"
   ]
  },
  {
   "cell_type": "code",
   "execution_count": 8,
   "metadata": {},
   "outputs": [
    {
     "data": {
      "text/plain": [
       "[<matplotlib.lines.Line2D at 0x1a6ccbebc10>]"
      ]
     },
     "execution_count": 8,
     "metadata": {},
     "output_type": "execute_result"
    },
    {
     "data": {
      "image/png": "[encoded data removed]",
      "text/plain": [
       "<Figure size 432x288 with 1 Axes>"
      ]
     },
     "metadata": {
      "needs_background": "light"
     },
     "output_type": "display_data"
    }
   ],
   "source": [
    "plt.plot(neurons_atframes[0,:1000])"
   ]
  },
  {
   "cell_type": "code",
   "execution_count": 10,
   "metadata": {},
   "outputs": [
    {
     "name": "stdout",
     "output_type": "stream",
     "text": [
      "signal variance with bin=4 : 0.15040256083011627\n",
      "signal variance with no bin : 0.03120078518986702\n"
     ]
    }
   ],
   "source": [
    "avg_res, csig = utils.get_tuned_neurons(neurons_atframes, subset_stim)\n",
    "print(f\"signal variance with bin=4 : {csig.mean()}\")\n",
    "avg_res_nobin, csig_nobin = utils.get_tuned_neurons(neurons_atframes_nobin, subset_stim_nobin)\n",
    "print(f\"signal variance with no bin : {csig_nobin.mean()}\")"
   ]
  }
 ],
 "metadata": {
  "kernelspec": {
   "display_name": "Python 3.8.13 ('suite2p')",
   "language": "python",
   "name": "python3"
  },
  "language_info": {
   "codemirror_mode": {
    "name": "ipython",
    "version": 3
   },
   "file_extension": ".py",
   "mimetype": "text/x-python",
   "name": "python",
   "nbconvert_exporter": "python",
   "pygments_lexer": "ipython3",
   "version": "3.8.13"
  },
  "orig_nbformat": 4,
  "vscode": {
   "interpreter": {
    "hash": "329532f91654f4570495f396f1d80fc6d5081a65e57d91d4c70771e320a78bf9"
   }
  }
 },
 "nbformat": 4,
 "nbformat_minor": 2
}
