{
 "cells": [
  {
   "cell_type": "markdown",
   "metadata": {},
   "source": [
    "# Example Notebook to load data"
   ]
  },
  {
   "cell_type": "markdown",
   "metadata": {},
   "source": [
    "### Library imports"
   ]
  },
  {
   "cell_type": "code",
   "execution_count": 52,
   "metadata": {},
   "outputs": [
    {
     "name": "stdout",
     "output_type": "stream",
     "text": [
      "The autoreload extension is already loaded. To reload it, use:\n",
      "  %reload_ext autoreload\n"
     ]
    }
   ],
   "source": [
    "import sys # os stands for \"operating system\" and includes read/write routines etc. \n",
    "import mkl\n",
    "from src import utils # this is our own library of functions\n",
    "import matplotlib.pyplot as plt\n",
    "import numpy as np \n",
    "import seaborn as sns\n",
    "import pandas as pd \n",
    "sns.set_context(\"talk\")\n",
    "mkl.set_num_threads(10)\n",
    "sys.path.insert(0,r'C:\\Users\\WinDesktopMP\\Documents\\suite2p')\n",
    "%matplotlib inline\n",
    "%load_ext autoreload\n",
    "%autoreload 2"
   ]
  },
  {
   "cell_type": "code",
   "execution_count": 351,
   "metadata": {},
   "outputs": [],
   "source": [
    "exp_db = []\n",
    "exp_db = utils.add_exp(exp_db, 'DR10', '2022_07_11', '1')\n",
    "exp_db = utils.add_exp(exp_db, 'TX80', '2022_06_17', '1')\n",
    "timeline_block = [1,1]\n",
    "frames_per_folder = [0,0]"
   ]
  },
  {
   "cell_type": "code",
   "execution_count": 352,
   "metadata": {},
   "outputs": [
    {
     "name": "stdout",
     "output_type": "stream",
     "text": [
      "Session: 0\n",
      "planes: 20\n"
     ]
    },
    {
     "name": "stderr",
     "output_type": "stream",
     "text": [
      "100%|██████████| 20/20 [06:25<00:00, 19.27s/it]\n"
     ]
    },
    {
     "name": "stdout",
     "output_type": "stream",
     "text": [
      "total neurons: 56096\n",
      "Session: 1\n",
      "planes: 20\n"
     ]
    },
    {
     "name": "stderr",
     "output_type": "stream",
     "text": [
      "100%|██████████| 20/20 [06:27<00:00, 19.38s/it]\n"
     ]
    },
    {
     "name": "stdout",
     "output_type": "stream",
     "text": [
      "total neurons: 59181\n"
     ]
    }
   ],
   "source": [
    "Sessions = utils.build_sessions(exp_db, frames_per_folder, timeline_block, dual_plane=True, baseline=True)"
   ]
  },
  {
   "cell_type": "code",
   "execution_count": 353,
   "metadata": {},
   "outputs": [],
   "source": [
    "summ_id = []\n",
    "summ_date = []\n",
    "summ_block = []\n",
    "summ_layer = []\n",
    "summ_traintex = []\n",
    "summ_acc = []\n",
    "summ_margin = []\n",
    "summ_catpair = []\n",
    "summ_sess = []\n",
    "n_categories = 8 \n",
    "n_samples = 4\n",
    "n_pairs = 28 \n",
    "layers = [1,2]"
   ]
  },
  {
   "cell_type": "markdown",
   "metadata": {},
   "source": [
    "Todo: add the possibility to work with reps not only with avg_reps = true"
   ]
  },
  {
   "cell_type": "code",
   "execution_count": 354,
   "metadata": {},
   "outputs": [
    {
     "name": "stdout",
     "output_type": "stream",
     "text": [
      "8 categories, 32 exemplars, 25 repeats\n",
      "8 categories, 32 exemplars, 98 repeats\n"
     ]
    },
    {
     "data": {
      "text/html": [
       "<div>\n",
       "<style scoped>\n",
       "    .dataframe tbody tr th:only-of-type {\n",
       "        vertical-align: middle;\n",
       "    }\n",
       "\n",
       "    .dataframe tbody tr th {\n",
       "        vertical-align: top;\n",
       "    }\n",
       "\n",
       "    .dataframe thead th {\n",
       "        text-align: right;\n",
       "    }\n",
       "</style>\n",
       "<table border=\"1\" class=\"dataframe\">\n",
       "  <thead>\n",
       "    <tr style=\"text-align: right;\">\n",
       "      <th></th>\n",
       "      <th>Session</th>\n",
       "      <th>ID</th>\n",
       "      <th>Date</th>\n",
       "      <th>Block</th>\n",
       "      <th>Layer</th>\n",
       "      <th>Training_tex</th>\n",
       "      <th>Accuracy</th>\n",
       "      <th>Margin</th>\n",
       "      <th>Category_Pair</th>\n",
       "    </tr>\n",
       "  </thead>\n",
       "  <tbody>\n",
       "    <tr>\n",
       "      <th>0</th>\n",
       "      <td>0</td>\n",
       "      <td>DR10</td>\n",
       "      <td>2022_07_11</td>\n",
       "      <td>1</td>\n",
       "      <td>1</td>\n",
       "      <td>0</td>\n",
       "      <td>100.0</td>\n",
       "      <td>0.137255</td>\n",
       "      <td>leaves/circles</td>\n",
       "    </tr>\n",
       "    <tr>\n",
       "      <th>1</th>\n",
       "      <td>0</td>\n",
       "      <td>DR10</td>\n",
       "      <td>2022_07_11</td>\n",
       "      <td>1</td>\n",
       "      <td>1</td>\n",
       "      <td>1</td>\n",
       "      <td>100.0</td>\n",
       "      <td>0.149098</td>\n",
       "      <td>leaves/circles</td>\n",
       "    </tr>\n",
       "    <tr>\n",
       "      <th>2</th>\n",
       "      <td>0</td>\n",
       "      <td>DR10</td>\n",
       "      <td>2022_07_11</td>\n",
       "      <td>1</td>\n",
       "      <td>1</td>\n",
       "      <td>2</td>\n",
       "      <td>75.0</td>\n",
       "      <td>0.122631</td>\n",
       "      <td>leaves/circles</td>\n",
       "    </tr>\n",
       "    <tr>\n",
       "      <th>3</th>\n",
       "      <td>0</td>\n",
       "      <td>DR10</td>\n",
       "      <td>2022_07_11</td>\n",
       "      <td>1</td>\n",
       "      <td>1</td>\n",
       "      <td>3</td>\n",
       "      <td>100.0</td>\n",
       "      <td>0.247694</td>\n",
       "      <td>leaves/circles</td>\n",
       "    </tr>\n",
       "    <tr>\n",
       "      <th>4</th>\n",
       "      <td>0</td>\n",
       "      <td>DR10</td>\n",
       "      <td>2022_07_11</td>\n",
       "      <td>1</td>\n",
       "      <td>1</td>\n",
       "      <td>0</td>\n",
       "      <td>75.0</td>\n",
       "      <td>0.116608</td>\n",
       "      <td>leaves/dryland</td>\n",
       "    </tr>\n",
       "  </tbody>\n",
       "</table>\n",
       "</div>"
      ],
      "text/plain": [
       "  Session    ID        Date Block Layer Training_tex Accuracy    Margin  \\\n",
       "0       0  DR10  2022_07_11     1     1            0    100.0  0.137255   \n",
       "1       0  DR10  2022_07_11     1     1            1    100.0  0.149098   \n",
       "2       0  DR10  2022_07_11     1     1            2     75.0  0.122631   \n",
       "3       0  DR10  2022_07_11     1     1            3    100.0  0.247694   \n",
       "4       0  DR10  2022_07_11     1     1            0     75.0  0.116608   \n",
       "\n",
       "    Category_Pair  \n",
       "0  leaves/circles  \n",
       "1  leaves/circles  \n",
       "2  leaves/circles  \n",
       "3  leaves/circles  \n",
       "4  leaves/dryland  "
      ]
     },
     "execution_count": 354,
     "metadata": {},
     "output_type": "execute_result"
    }
   ],
   "source": [
    "for sess in range(len(exp_db)):\n",
    "    acurracy_per_layer = []\n",
    "    spop_per_layer = []\n",
    "    margin_per_layer = []\n",
    "    mean_margin_L1 = []\n",
    "    mean_margin_L2 = []\n",
    "    Sessions[sess].cats, Sessions[sess].stim_idx, Sessions[sess].nreps = utils.get_stim_class_and_samples_ix(Sessions[sess].subset_stim, n_categories=8, samples_per_cat=4)\n",
    "    for layer in layers:\n",
    "        accuracy, pairs, spops, cat_dict = utils.PairwiseDprimeDecoder(Sessions[sess].neurons_atframes, Sessions[sess].stim_idx, Sessions[sess].iplane, Sessions[sess].cats,\n",
    "                                                                        n_categories = n_categories, n_samples = n_samples, layer = layer , avg_reps = True)\n",
    "        gen_marg = utils.get_generalization_margings(spops, n_pairs = n_pairs, n_textures = n_samples)\n",
    "        acurracy_per_layer.append(accuracy)\n",
    "        spop_per_layer.append(spops)\n",
    "        margin_per_layer.append(gen_marg)\n",
    "\n",
    "    for pair in range(n_pairs):\n",
    "        mean_margin_L1.append(utils.get_margin_per_category(margin_per_layer[0],pair,avg=True))\n",
    "        mean_margin_L2.append(utils.get_margin_per_category(margin_per_layer[1],pair,avg=True))\n",
    "\n",
    "    Sessions[sess].acurracy_per_layer = np.array(acurracy_per_layer)\n",
    "    Sessions[sess].spop_per_layer = np.array(spop_per_layer)\n",
    "    Sessions[sess].margin_per_layer = np.array(margin_per_layer)\n",
    "    Sessions[sess].mean_margin_L1 = np.array(mean_margin_L1)\n",
    "    Sessions[sess].mean_margin_L2 = np.array(mean_margin_L2)\n",
    "    Sessions[sess].cat_pairs = utils.categorypairs_parser(cat_dict,pairs)\n",
    "\n",
    "    # create a summary \n",
    "    summ_id.append([Sessions[sess].name]*n_pairs*n_samples*len(layers))\n",
    "    summ_date.append([Sessions[sess].date] * n_pairs*n_samples*len(layers))\n",
    "    summ_block.append([Sessions[sess].block] * n_pairs*n_samples*len(layers))\n",
    "    summ_sess.append(np.repeat(sess, n_pairs*n_samples*len(layers)))\n",
    "    summ_layer.append(np.append(np.repeat(1,n_samples*n_pairs),np.repeat(2,n_samples*n_pairs)))\n",
    "    summ_traintex.append(np.tile(np.tile(np.arange(n_samples),n_pairs),len(layers)))\n",
    "    summ_acc.append(Sessions[sess].acurracy_per_layer.reshape((n_pairs*n_samples)*len(layers),-1).flatten())\n",
    "    summ_margin.append(np.append(Sessions[sess].mean_margin_L1.reshape(n_pairs*n_samples,-1).flatten(),Sessions[sess].mean_margin_L2.reshape(n_pairs*n_samples,-1).flatten()))\n",
    "    summ_catpair.append(np.tile(np.repeat(np.array(Sessions[sess].cat_pairs),n_samples),len(layers)))\n",
    "\n",
    "summary_sessions = pd.DataFrame({\n",
    "\"Session\": np.concatenate(np.array(summ_sess, dtype=object),axis=0),\n",
    "\"ID\": np.concatenate(np.array(summ_id, dtype=object),axis=0),\n",
    "\"Date\": np.concatenate(np.array(summ_date, dtype=object),axis=0),\n",
    "\"Block\": np.concatenate(np.array(summ_block, dtype=object),axis=0),\n",
    "\"Layer\": np.concatenate(np.array(summ_layer, dtype=object),axis=0),\n",
    "\"Training_tex\" : np.concatenate(np.array(summ_traintex, dtype=object),axis=0),\n",
    "\"Accuracy\": np.concatenate(np.array(summ_acc, dtype=object),axis=0),\n",
    "\"Margin\": np.concatenate(np.array(summ_margin, dtype=object),axis=0),\n",
    "\"Category_Pair\": np.concatenate(np.array(summ_catpair, dtype=object),axis=0)\n",
    "})\n",
    "\n",
    "summary_sessions.head()"
   ]
  },
  {
   "cell_type": "code",
   "execution_count": 357,
   "metadata": {},
   "outputs": [
    {
     "data": {
      "text/html": [
       "<div>\n",
       "<style scoped>\n",
       "    .dataframe tbody tr th:only-of-type {\n",
       "        vertical-align: middle;\n",
       "    }\n",
       "\n",
       "    .dataframe tbody tr th {\n",
       "        vertical-align: top;\n",
       "    }\n",
       "\n",
       "    .dataframe thead th {\n",
       "        text-align: right;\n",
       "    }\n",
       "</style>\n",
       "<table border=\"1\" class=\"dataframe\">\n",
       "  <thead>\n",
       "    <tr style=\"text-align: right;\">\n",
       "      <th></th>\n",
       "      <th>ID</th>\n",
       "      <th>Category_Pair</th>\n",
       "      <th>Layer</th>\n",
       "      <th>Session</th>\n",
       "      <th>Date</th>\n",
       "      <th>Block</th>\n",
       "      <th>Training_tex</th>\n",
       "      <th>Accuracy</th>\n",
       "      <th>Margin</th>\n",
       "    </tr>\n",
       "  </thead>\n",
       "  <tbody>\n",
       "    <tr>\n",
       "      <th>18</th>\n",
       "      <td>DR10</td>\n",
       "      <td>dryland/squares</td>\n",
       "      <td>1</td>\n",
       "      <td>0.0</td>\n",
       "      <td>5.055178e+30</td>\n",
       "      <td>277.75</td>\n",
       "      <td>1.5</td>\n",
       "      <td>62.50</td>\n",
       "      <td>-0.007179</td>\n",
       "    </tr>\n",
       "    <tr>\n",
       "      <th>28</th>\n",
       "      <td>DR10</td>\n",
       "      <td>leaves/rocks</td>\n",
       "      <td>1</td>\n",
       "      <td>0.0</td>\n",
       "      <td>5.055178e+30</td>\n",
       "      <td>277.75</td>\n",
       "      <td>1.5</td>\n",
       "      <td>62.50</td>\n",
       "      <td>-0.047167</td>\n",
       "    </tr>\n",
       "    <tr>\n",
       "      <th>61</th>\n",
       "      <td>TX80</td>\n",
       "      <td>circles/rocks</td>\n",
       "      <td>2</td>\n",
       "      <td>1.0</td>\n",
       "      <td>5.055154e+30</td>\n",
       "      <td>277.75</td>\n",
       "      <td>1.5</td>\n",
       "      <td>56.25</td>\n",
       "      <td>-0.003840</td>\n",
       "    </tr>\n",
       "    <tr>\n",
       "      <th>70</th>\n",
       "      <td>TX80</td>\n",
       "      <td>dryland/rocks</td>\n",
       "      <td>1</td>\n",
       "      <td>1.0</td>\n",
       "      <td>5.055154e+30</td>\n",
       "      <td>277.75</td>\n",
       "      <td>1.5</td>\n",
       "      <td>62.50</td>\n",
       "      <td>-0.019443</td>\n",
       "    </tr>\n",
       "    <tr>\n",
       "      <th>71</th>\n",
       "      <td>TX80</td>\n",
       "      <td>dryland/rocks</td>\n",
       "      <td>2</td>\n",
       "      <td>1.0</td>\n",
       "      <td>5.055154e+30</td>\n",
       "      <td>277.75</td>\n",
       "      <td>1.5</td>\n",
       "      <td>50.00</td>\n",
       "      <td>-0.014226</td>\n",
       "    </tr>\n",
       "    <tr>\n",
       "      <th>85</th>\n",
       "      <td>TX80</td>\n",
       "      <td>leaves/rocks</td>\n",
       "      <td>2</td>\n",
       "      <td>1.0</td>\n",
       "      <td>5.055154e+30</td>\n",
       "      <td>277.75</td>\n",
       "      <td>1.5</td>\n",
       "      <td>62.50</td>\n",
       "      <td>-0.003030</td>\n",
       "    </tr>\n",
       "  </tbody>\n",
       "</table>\n",
       "</div>"
      ],
      "text/plain": [
       "      ID    Category_Pair  Layer  Session          Date   Block  Training_tex  \\\n",
       "18  DR10  dryland/squares      1      0.0  5.055178e+30  277.75           1.5   \n",
       "28  DR10     leaves/rocks      1      0.0  5.055178e+30  277.75           1.5   \n",
       "61  TX80    circles/rocks      2      1.0  5.055154e+30  277.75           1.5   \n",
       "70  TX80    dryland/rocks      1      1.0  5.055154e+30  277.75           1.5   \n",
       "71  TX80    dryland/rocks      2      1.0  5.055154e+30  277.75           1.5   \n",
       "85  TX80     leaves/rocks      2      1.0  5.055154e+30  277.75           1.5   \n",
       "\n",
       "    Accuracy    Margin  \n",
       "18     62.50 -0.007179  \n",
       "28     62.50 -0.047167  \n",
       "61     56.25 -0.003840  \n",
       "70     62.50 -0.019443  \n",
       "71     50.00 -0.014226  \n",
       "85     62.50 -0.003030  "
      ]
     },
     "execution_count": 357,
     "metadata": {},
     "output_type": "execute_result"
    }
   ],
   "source": [
    "summary_sessions.groupby([\"ID\",\"Category_Pair\",\"Layer\"]).mean().reset_index().query(\"Margin<0\")"
   ]
  },
  {
   "cell_type": "code",
   "execution_count": 376,
   "metadata": {},
   "outputs": [
    {
     "data": {
      "image/png": "[encoded data removed]",
      "text/plain": [
       "<Figure size 720x720 with 1 Axes>"
      ]
     },
     "metadata": {
      "needs_background": "light"
     },
     "output_type": "display_data"
    }
   ],
   "source": [
    "plt.figure(figsize=(10,10))\n",
    "ax = sns.violinplot(x=\"ID\",y=\"Margin\",hue=\"Layer\",data=summary_sessions.groupby([\"ID\",\"Category_Pair\",\"Layer\"]).mean().reset_index(), alpha = 0.2);\n",
    "plt.setp(ax.collections, alpha=.3)\n",
    "ax = sns.stripplot(x=\"ID\",y=\"Margin\",hue=\"Layer\",data=summary_sessions.groupby([\"ID\",\"Category_Pair\",\"Layer\"]).mean().reset_index(),dodge=True);\n",
    "handles, labels = ax.get_legend_handles_labels()\n",
    "plt.legend(handles[:2],labels[:2],title='Layer')\n",
    "sns.move_legend(ax, \"upper left\", bbox_to_anchor=(1, 1))\n",
    "sns.despine()"
   ]
  },
  {
   "cell_type": "code",
   "execution_count": 374,
   "metadata": {},
   "outputs": [
    {
     "data": {
      "text/plain": [
       "[<matplotlib.patches.Rectangle at 0x1de886a5eb0>,\n",
       " <matplotlib.patches.Rectangle at 0x1de8861db50>,\n",
       " <matplotlib.collections.PathCollection at 0x1de88592160>,\n",
       " <matplotlib.collections.PathCollection at 0x1de885744f0>]"
      ]
     },
     "execution_count": 374,
     "metadata": {},
     "output_type": "execute_result"
    }
   ],
   "source": [
    "handles"
   ]
  },
  {
   "cell_type": "code",
   "execution_count": 201,
   "metadata": {},
   "outputs": [
    {
     "data": {
      "text/plain": [
       "(28, 4)"
      ]
     },
     "execution_count": 201,
     "metadata": {},
     "output_type": "execute_result"
    }
   ],
   "source": [
    "Sessions[0].mean_margin_L1.shape"
   ]
  },
  {
   "cell_type": "markdown",
   "metadata": {},
   "source": [
    "# TODO: plot margin by layer and ID"
   ]
  },
  {
   "cell_type": "code",
   "execution_count": 59,
   "metadata": {},
   "outputs": [
    {
     "data": {
      "image/png": "[encoded data removed]",
      "text/plain": [
       "<Figure size 720x720 with 1 Axes>"
      ]
     },
     "metadata": {
      "needs_background": "light"
     },
     "output_type": "display_data"
    }
   ],
   "source": [
    "cat_pairs = utils.categorypairs_parser(cat_dict,pairs)\n",
    "plt.figure(figsize=(10,10))\n",
    "maxpair_L1 = mean_margin_L1.mean(1).argmax()\n",
    "minpair_L1 = mean_margin_L1.mean(1).argmin()\n",
    "maxpair_L2 = mean_margin_L2.mean(1).argmax()\n",
    "minpair_L2 = mean_margin_L2.mean(1).argmin()\n",
    "plt.scatter(np.zeros_like(mean_margin_L1.mean(1)),mean_margin_L1.mean(1),c=\"grey\",s=60, alpha = 0.2)\n",
    "plt.scatter(np.ones_like(mean_margin_L2.mean(1)),mean_margin_L2.mean(1),c=\"grey\",s=60, alpha = 0.2)\n",
    "point1 = [0, mean_margin_L1.mean()]\n",
    "point2 = [1, mean_margin_L2.mean()]\n",
    "x_values = [point1[0], point2[0]]\n",
    "y_values = [point1[1], point2[1]]\n",
    "plt.plot(x_values, y_values, 'bo', linestyle=\"--\", alpha = 0.5)\n",
    "plt.text(point1[0]+0.025, point1[1]+0.02, str(np.round(mean_margin_L1.mean(),2)), color = \"b\")\n",
    "plt.text(point2[0]-0.10, point2[1]+0.03, str(np.round(mean_margin_L2.mean(),2)), color = \"b\")\n",
    "plt.scatter(0, mean_margin_L1.mean(1).max(),color=\"g\")\n",
    "plt.scatter(0, mean_margin_L1.mean(1).min(),color=\"r\")\n",
    "plt.text(0+.02, mean_margin_L1.mean(1).max(), cat_pairs[maxpair_L1], color = \"g\")\n",
    "plt.text(0+.02, mean_margin_L1.mean(1).min(), cat_pairs[minpair_L1], color = \"r\")\n",
    "plt.scatter(1, mean_margin_L2.mean(1).max(),color=\"g\")\n",
    "plt.scatter(1, mean_margin_L2.mean(1).min(),color=\"r\")\n",
    "plt.text(1+.02, mean_margin_L2.mean(1).max(), cat_pairs[maxpair_L2], color = \"g\")\n",
    "plt.text(1+.02, mean_margin_L2.mean(1).min(), cat_pairs[minpair_L2], color = \"r\")\n",
    "plt.ylabel(\"Generalization margin\")\n",
    "plt.xticks([0, 1],[\"Layer 1\", \"Layer 2/3\"])\n",
    "plt.xlabel(\" \");\n",
    "sns.despine()"
   ]
  },
  {
   "cell_type": "code",
   "execution_count": null,
   "metadata": {},
   "outputs": [],
   "source": []
  }
 ],
 "metadata": {
  "kernelspec": {
   "display_name": "Python 3.8.13 ('suite2p')",
   "language": "python",
   "name": "python3"
  },
  "language_info": {
   "codemirror_mode": {
    "name": "ipython",
    "version": 3
   },
   "file_extension": ".py",
   "mimetype": "text/x-python",
   "name": "python",
   "nbconvert_exporter": "python",
   "pygments_lexer": "ipython3",
   "version": "3.8.13"
  },
  "orig_nbformat": 4,
  "vscode": {
   "interpreter": {
    "hash": "329532f91654f4570495f396f1d80fc6d5081a65e57d91d4c70771e320a78bf9"
   }
  }
 },
 "nbformat": 4,
 "nbformat_minor": 2
}
