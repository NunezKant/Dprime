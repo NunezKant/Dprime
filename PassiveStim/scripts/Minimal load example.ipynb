{
 "cells": [
  {
   "cell_type": "markdown",
   "metadata": {},
   "source": [
    "# Example Notebook to load data"
   ]
  },
  {
   "cell_type": "markdown",
   "metadata": {},
   "source": [
    "### Library imports"
   ]
  },
  {
   "cell_type": "code",
   "execution_count": null,
   "metadata": {},
   "outputs": [],
   "source": [
    "import sys # os stands for \"operating system\" and includes read/write routines etc. \n",
    "import mkl\n",
    "from src import utils # this is our own library of functions\n",
    "mkl.set_num_threads(10)\n",
    "sys.path.insert(0,r'C:\\Users\\WinDesktopMP\\Documents\\suite2p')\n",
    "%matplotlib inline\n",
    "%load_ext autoreload\n",
    "%autoreload 2\n"
   ]
  },
  {
   "cell_type": "code",
   "execution_count": null,
   "metadata": {},
   "outputs": [],
   "source": [
    "exp_db = []\n",
    "exp_db = utils.add_exp(exp_db, 'TX80', '2022_06_17', '1')\n",
    "iexp       = 0\n",
    "timeline   = utils.load_exp_info(exp_db[iexp])\n",
    "spks, xpos, ypos, iplane, stat, ops = utils.load_neurons(exp_db[iexp], dual_plane=True, baseline=True)"
   ]
  },
  {
   "cell_type": "code",
   "execution_count": null,
   "metadata": {},
   "outputs": [],
   "source": [
    "neurons_atframes, subset_stim = utils.get_neurons_atframes(timeline,spks)\n",
    "avg_response, csig = utils.get_tuned_neurons(neurons_atframes, subset_stim)\n",
    "csig.mean()"
   ]
  },
  {
   "cell_type": "markdown",
   "metadata": {},
   "source": [
    "Gets the 8x4 stimuli:"
   ]
  },
  {
   "cell_type": "code",
   "execution_count": null,
   "metadata": {},
   "outputs": [],
   "source": [
    "cats, stim_idx = utils.get_stim_class_and_samples_ix(subset_stim, n_categories=8, samples_per_cat=4)"
   ]
  }
 ],
 "metadata": {
  "kernelspec": {
   "display_name": "Python 3.8.13 ('suite2p')",
   "language": "python",
   "name": "python3"
  },
  "language_info": {
   "codemirror_mode": {
    "name": "ipython",
    "version": 3
   },
   "file_extension": ".py",
   "mimetype": "text/x-python",
   "name": "python",
   "nbconvert_exporter": "python",
   "pygments_lexer": "ipython3",
   "version": "3.8.13"
  },
  "orig_nbformat": 4,
  "vscode": {
   "interpreter": {
    "hash": "329532f91654f4570495f396f1d80fc6d5081a65e57d91d4c70771e320a78bf9"
   }
  }
 },
 "nbformat": 4,
 "nbformat_minor": 2
}
